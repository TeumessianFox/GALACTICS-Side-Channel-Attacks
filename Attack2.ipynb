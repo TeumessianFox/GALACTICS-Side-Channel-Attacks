{
 "cells": [
  {
   "cell_type": "code",
   "execution_count": 1,
   "id": "minimal-maker",
   "metadata": {},
   "outputs": [
    {
     "name": "stderr",
     "output_type": "stream",
     "text": [
      "2021-07-15 13:09:43.673591: I tensorflow/stream_executor/platform/default/dso_loader.cc:53] Successfully opened dynamic library libcudart.so.11.0\n"
     ]
    }
   ],
   "source": [
    "import os\n",
    "import sys\n",
    "import pickle\n",
    "\n",
    "import numpy as np\n",
    "import tensorflow as tf\n",
    "import pandas as pd\n",
    "import sklearn\n",
    "import sklearn.preprocessing\n",
    "from tqdm import tqdm\n",
    "\n",
    "import models\n",
    "\n",
    "from access_data import read_gaussian_data, read_bliss_data"
   ]
  },
  {
   "cell_type": "code",
   "execution_count": 2,
   "id": "6c9fa239",
   "metadata": {},
   "outputs": [],
   "source": [
    "# Path to the extracted data from Zenodo\n",
    "DATA_PATH = \"../galactics_attack_data/\""
   ]
  },
  {
   "cell_type": "markdown",
   "id": "specific-neighborhood",
   "metadata": {},
   "source": [
    "# Load Data and Predict $y_u$"
   ]
  },
  {
   "cell_type": "markdown",
   "id": "swiss-dodge",
   "metadata": {},
   "source": [
    "Load BLISS signing data"
   ]
  },
  {
   "cell_type": "code",
   "execution_count": 3,
   "id": "clear-cigarette",
   "metadata": {},
   "outputs": [],
   "source": [
    "data = read_bliss_data(DATA_PATH, \"data_device_b_attack_1_2\")"
   ]
  },
  {
   "cell_type": "code",
   "execution_count": 4,
   "id": "lovely-hampton",
   "metadata": {},
   "outputs": [],
   "source": [
    "# trunkcate to first half\n",
    "for col in ['yu', 'Kx', 'z']:\n",
    "    data[col] = data.apply(lambda row: row[col][:512], axis=1)\n",
    "\n",
    "# filter b to relevant bit\n",
    "data['b'] = data.apply(lambda row: 1 - (row['b'] % 2), axis=1)\n",
    "\n",
    "# Adjust Kx and yu signs\n",
    "#data['Kx'] = data.apply(lambda row: row['Kx'] * np.sign(row['z']), axis=1)\n",
    "#data['yu'] = data.apply(lambda row: row['yu'] * np.sign(row['z']), axis=1)\n",
    "data['a'] = data.apply(lambda row: np.sign(row['z']), axis=1)\n",
    "\n",
    "# Transpose C_matrix\n",
    "data['C_matrix'] = data.apply(lambda row: row['C_matrix'].T, axis=1)\n",
    "    \n",
    "# compute corresponding trace index (discarding failed attempts)\n",
    "data['trace_idx'] = np.cumsum(data['num_attempts']) - 1"
   ]
  },
  {
   "cell_type": "markdown",
   "id": "proved-capital",
   "metadata": {},
   "source": [
    "Load $y_u$ side-channel data"
   ]
  },
  {
   "cell_type": "code",
   "execution_count": 5,
   "id": "experimental-holiday",
   "metadata": {},
   "outputs": [],
   "source": [
    "# This path has to be the path to the traced data after preprocessing\n",
    "data_path = DATA_PATH + \"data_device_b_attack_1_2/\""
   ]
  },
  {
   "cell_type": "code",
   "execution_count": 6,
   "id": "usual-threat",
   "metadata": {},
   "outputs": [],
   "source": [
    "yu_data = pd.read_pickle(data_path + 'yu_cw_data.pickle')"
   ]
  },
  {
   "cell_type": "code",
   "execution_count": 7,
   "id": "wicked-cheese",
   "metadata": {},
   "outputs": [],
   "source": [
    "yu_data.reset_index(inplace=True)"
   ]
  },
  {
   "cell_type": "markdown",
   "id": "handy-edwards",
   "metadata": {},
   "source": [
    "Match data"
   ]
  },
  {
   "cell_type": "code",
   "execution_count": 8,
   "id": "compressed-position",
   "metadata": {},
   "outputs": [],
   "source": [
    "# set of all traces that we have\n",
    "TI = set(yu_data['sign_num'].unique()) & set(data['trace_idx'])\n",
    "\n",
    "# set proper indices on BLISS and SC data\n",
    "data.set_index(['trace_idx'], inplace=True)\n",
    "yu_data.set_index(['sign_num', 'index'], inplace=True)"
   ]
  },
  {
   "cell_type": "markdown",
   "id": "equipped-craps",
   "metadata": {},
   "source": [
    "Clip data"
   ]
  },
  {
   "cell_type": "code",
   "execution_count": 9,
   "id": "emotional-nigeria",
   "metadata": {},
   "outputs": [],
   "source": [
    "yu_data['yu=0'] = yu_data['yu'] == 0\n",
    "yu_data['trace'] = yu_data.apply(lambda row: row['trace'][85:110], axis=1)\n",
    "trace_shape = next(iter(yu_data['trace'])).shape"
   ]
  },
  {
   "cell_type": "markdown",
   "id": "hungarian-cattle",
   "metadata": {},
   "source": [
    "Load model for $y_u$ prediction"
   ]
  },
  {
   "cell_type": "code",
   "execution_count": 10,
   "id": "operational-cable",
   "metadata": {},
   "outputs": [
    {
     "name": "stderr",
     "output_type": "stream",
     "text": [
      "2021-07-15 13:10:44.127962: I tensorflow/stream_executor/platform/default/dso_loader.cc:53] Successfully opened dynamic library libcuda.so.1\n",
      "2021-07-15 13:10:44.181294: I tensorflow/core/common_runtime/gpu/gpu_device.cc:1733] Found device 0 with properties: \n",
      "pciBusID: 0000:05:00.0 name: GeForce GTX 1080 Ti computeCapability: 6.1\n",
      "coreClock: 1.582GHz coreCount: 28 deviceMemorySize: 10.92GiB deviceMemoryBandwidth: 451.17GiB/s\n",
      "2021-07-15 13:10:44.182267: I tensorflow/core/common_runtime/gpu/gpu_device.cc:1733] Found device 1 with properties: \n",
      "pciBusID: 0000:0a:00.0 name: GeForce GTX 1080 Ti computeCapability: 6.1\n",
      "coreClock: 1.582GHz coreCount: 28 deviceMemorySize: 10.92GiB deviceMemoryBandwidth: 451.17GiB/s\n",
      "2021-07-15 13:10:44.182306: I tensorflow/stream_executor/platform/default/dso_loader.cc:53] Successfully opened dynamic library libcudart.so.11.0\n",
      "2021-07-15 13:10:44.187541: I tensorflow/stream_executor/platform/default/dso_loader.cc:53] Successfully opened dynamic library libcublas.so.11\n",
      "2021-07-15 13:10:44.187638: I tensorflow/stream_executor/platform/default/dso_loader.cc:53] Successfully opened dynamic library libcublasLt.so.11\n",
      "2021-07-15 13:10:44.189086: I tensorflow/stream_executor/platform/default/dso_loader.cc:53] Successfully opened dynamic library libcufft.so.10\n",
      "2021-07-15 13:10:44.189277: I tensorflow/stream_executor/platform/default/dso_loader.cc:53] Successfully opened dynamic library libcurand.so.10\n",
      "2021-07-15 13:10:44.191380: I tensorflow/stream_executor/platform/default/dso_loader.cc:53] Successfully opened dynamic library libcusolver.so.11\n",
      "2021-07-15 13:10:44.191849: I tensorflow/stream_executor/platform/default/dso_loader.cc:53] Successfully opened dynamic library libcusparse.so.11\n",
      "2021-07-15 13:10:44.191966: W tensorflow/stream_executor/platform/default/dso_loader.cc:64] Could not load dynamic library 'libcudnn.so.8'; dlerror: libcudnn.so.8: cannot open shared object file: No such file or directory\n",
      "2021-07-15 13:10:44.191976: W tensorflow/core/common_runtime/gpu/gpu_device.cc:1766] Cannot dlopen some GPU libraries. Please make sure the missing libraries mentioned above are installed properly if you would like to use GPU. Follow the guide at https://www.tensorflow.org/install/gpu for how to download and setup the required libraries for your platform.\n",
      "Skipping registering GPU devices...\n",
      "2021-07-15 13:10:44.192406: I tensorflow/core/platform/cpu_feature_guard.cc:142] This TensorFlow binary is optimized with oneAPI Deep Neural Network Library (oneDNN) to use the following CPU instructions in performance-critical operations:  AVX2 FMA\n",
      "To enable them in other operations, rebuild TensorFlow with the appropriate compiler flags.\n",
      "2021-07-15 13:10:44.192611: I tensorflow/core/common_runtime/gpu/gpu_device.cc:1258] Device interconnect StreamExecutor with strength 1 edge matrix:\n",
      "2021-07-15 13:10:44.192619: I tensorflow/core/common_runtime/gpu/gpu_device.cc:1264]      \n"
     ]
    }
   ],
   "source": [
    "yu_model = models.get_yu_model(trace_shape)"
   ]
  },
  {
   "cell_type": "code",
   "execution_count": 11,
   "id": "difficult-visibility",
   "metadata": {},
   "outputs": [
    {
     "name": "stdout",
     "output_type": "stream",
     "text": [
      "Model: \"sequential\"\n",
      "_________________________________________________________________\n",
      "Layer (type)                 Output Shape              Param #   \n",
      "=================================================================\n",
      "dense (Dense)                (None, 10)                260       \n",
      "_________________________________________________________________\n",
      "dense_1 (Dense)              (None, 10)                110       \n",
      "_________________________________________________________________\n",
      "dense_2 (Dense)              (None, 20)                220       \n",
      "_________________________________________________________________\n",
      "dense_3 (Dense)              (None, 10)                210       \n",
      "_________________________________________________________________\n",
      "dense_4 (Dense)              (None, 1)                 11        \n",
      "=================================================================\n",
      "Total params: 811\n",
      "Trainable params: 811\n",
      "Non-trainable params: 0\n",
      "_________________________________________________________________\n"
     ]
    }
   ],
   "source": [
    "yu_model.load_weights('models/yu.hdf5')\n",
    "yu_model.summary()"
   ]
  },
  {
   "cell_type": "markdown",
   "id": "outer-wales",
   "metadata": {},
   "source": [
    "Predict $y_u$"
   ]
  },
  {
   "cell_type": "code",
   "execution_count": 12,
   "id": "subjective-honduras",
   "metadata": {},
   "outputs": [
    {
     "name": "stderr",
     "output_type": "stream",
     "text": [
      "2021-07-15 13:10:46.543518: W tensorflow/core/framework/cpu_allocator_impl.cc:80] Allocation of 145049200 exceeds 10% of free system memory.\n",
      "2021-07-15 13:10:46.644496: I tensorflow/compiler/mlir/mlir_graph_optimization_pass.cc:176] None of the MLIR Optimization Passes are enabled (registered 2)\n",
      "2021-07-15 13:10:46.664503: I tensorflow/core/platform/profile_utils/cpu_utils.cc:114] CPU Frequency: 3597755000 Hz\n"
     ]
    }
   ],
   "source": [
    "def series_to_numpy(s):\n",
    "    assert len(s), 's must contain at least one row'\n",
    "    l1, l2, t = len(s), len(next(iter(s))), next(iter(s)).dtype\n",
    "    res = np.empty(shape=(l1, l2))\n",
    "    for idx, row in enumerate(s):\n",
    "        res[idx] = row\n",
    "    return res\n",
    "\n",
    "traces = series_to_numpy(yu_data['trace'])\n",
    "traces = sklearn.preprocessing.StandardScaler().fit_transform(traces)\n",
    "yu_data['prediction_p'] = yu_model.predict(traces, batch_size=1000)[:, 0]\n",
    "yu_data['prediction'] = np.round(yu_data['prediction_p']) == 1"
   ]
  },
  {
   "cell_type": "markdown",
   "id": "distant-specific",
   "metadata": {},
   "source": [
    "# Attack"
   ]
  },
  {
   "cell_type": "markdown",
   "id": "arranged-shadow",
   "metadata": {},
   "source": [
    "## Prediction Accuracy Evaluation"
   ]
  },
  {
   "cell_type": "code",
   "execution_count": 13,
   "id": "corresponding-cleanup",
   "metadata": {},
   "outputs": [
    {
     "name": "stdout",
     "output_type": "stream",
     "text": [
      "total number 1450492\n",
      "false positives:  15\n",
      "false negatives:  674\n",
      "accuracy 0.9995249887624337\n"
     ]
    }
   ],
   "source": [
    "print('total number', len(yu_data))\n",
    "print('false positives: ', sum(yu_data['prediction'] & ~yu_data['yu=0']))\n",
    "print('false negatives: ', sum(~yu_data['prediction'] & yu_data['yu=0']))\n",
    "print('accuracy', 1 - sum(yu_data['prediction'] ^ yu_data['yu=0']) / len(yu_data))"
   ]
  },
  {
   "cell_type": "markdown",
   "id": "coastal-column",
   "metadata": {},
   "source": [
    "## Create Matrix $M$\n",
    "We create a matricies $M_1, M_2$ using a \"perfect side-channel\" for control of validity, and the real side-channel using above classifier for the actual attack."
   ]
  },
  {
   "cell_type": "code",
   "execution_count": 14,
   "id": "flush-option",
   "metadata": {},
   "outputs": [
    {
     "name": "stderr",
     "output_type": "stream",
     "text": [
      "100%|████████████████████████████████████████████████████████████████████████████████████████████████████████████████████████████████████████████████████████████████████████| 2000/2000 [00:01<00:00, 1081.60it/s]\n"
     ]
    },
    {
     "name": "stdout",
     "output_type": "stream",
     "text": [
      "Found matrix of rank 511 via perfect side channel\n",
      "Found matrix of rank 512 via real side channel\n",
      "Matrix for real SC contains 1 false positives.\n",
      "Matrix for real SC missed 70 true positives.\n"
     ]
    }
   ],
   "source": [
    "M1, M2 = [], []\n",
    "real_sc_fp = 0\n",
    "real_sc_fn = 0\n",
    "\n",
    "for ti in tqdm(TI): # - TI_TRAIN:  # TODO do not use training data\n",
    "    for i in np.where(data.loc[ti]['z1'] % 256 == 0)[0]:  # iterate over i where (zki = data.loc[ti]['z'][i] % 256) == 0\n",
    "        perfect_sc_yu_is_zero = yu_data.loc[(ti, i)]['yu=0']\n",
    "        real_sc_yu_is_zero = yu_data.loc[(ti, i)]['prediction']\n",
    "\n",
    "        if perfect_sc_yu_is_zero:\n",
    "            M1 += [data.loc[ti]['C_matrix'][:, i]]\n",
    "\n",
    "        if real_sc_yu_is_zero:\n",
    "            M2 += [data.loc[ti]['C_matrix'][:, i]]\n",
    "\n",
    "        if real_sc_yu_is_zero and not perfect_sc_yu_is_zero:\n",
    "            real_sc_fp += 1\n",
    "        if not real_sc_yu_is_zero and perfect_sc_yu_is_zero:\n",
    "            real_sc_fn += 1\n",
    "\n",
    "M1, M2 = np.array(M1), np.array(M2)\n",
    "print(f\"Found matrix of rank {np.linalg.matrix_rank(M1)} via perfect side channel\")\n",
    "print(f\"Found matrix of rank {np.linalg.matrix_rank(M2)} via real side channel\")\n",
    "print(f\"Matrix for real SC contains {real_sc_fp} false positives.\")\n",
    "print(f\"Matrix for real SC missed {real_sc_fn} true positives.\")"
   ]
  },
  {
   "cell_type": "markdown",
   "id": "human-sustainability",
   "metadata": {},
   "source": [
    "Load the correct secret key for comparison"
   ]
  },
  {
   "cell_type": "code",
   "execution_count": 15,
   "id": "delayed-remains",
   "metadata": {},
   "outputs": [],
   "source": [
    "real_s1 = data.iloc[0]['s1']"
   ]
  },
  {
   "cell_type": "markdown",
   "id": "warming-harvard",
   "metadata": {},
   "source": [
    "Do the attack for both matricies"
   ]
  },
  {
   "cell_type": "code",
   "execution_count": 16,
   "id": "judicial-technician",
   "metadata": {},
   "outputs": [
    {
     "name": "stdout",
     "output_type": "stream",
     "text": [
      "Using the perfect side-channel, we recovered s1 with accuracy 100.0%\n",
      "No non-trivial solution found! Matrix probably noisy.\n",
      "Using the real side-channel, we recovered s1 with accuracy 69.9%\n"
     ]
    }
   ],
   "source": [
    "import scipy as sp\n",
    "from scipy import linalg\n",
    "\n",
    "def recover_s1(M):\n",
    "    ns = sp.linalg.null_space(M)\n",
    "    if ns.shape[-1] == 0:\n",
    "        print(\"No non-trivial solution found! Matrix probably noisy.\")\n",
    "        return np.zeros(512)\n",
    "    return np.round(ns/ns.max()).reshape(512)\n",
    "\n",
    "def key_accuracy(predicted_s1):\n",
    "    return max(\n",
    "        (predicted_s1 == real_s1).mean(),\n",
    "        (-predicted_s1 == real_s1).mean(),\n",
    "    )\n",
    "\n",
    "print(f\"Using the perfect side-channel, we recovered s1 with accuracy {key_accuracy(recover_s1(M1)):.1%}\")\n",
    "print(f\"Using the real side-channel, we recovered s1 with accuracy {key_accuracy(recover_s1(M2)):.1%}\")"
   ]
  },
  {
   "cell_type": "markdown",
   "id": "civic-yemen",
   "metadata": {},
   "source": [
    "## Optimize Real Side Channel Attack\n",
    "We choose a random subet of $M_2$ until we get one that yields the secret key."
   ]
  },
  {
   "cell_type": "code",
   "execution_count": 17,
   "id": "modern-festival",
   "metadata": {},
   "outputs": [
    {
     "name": "stdout",
     "output_type": "stream",
     "text": [
      "Got accuracy 59.4%\n",
      "Got accuracy 66.6%\n",
      "Got accuracy 65.0%\n",
      "Got accuracy 68.4%\n",
      "Got accuracy 65.8%\n",
      "Got accuracy 62.1%\n",
      "Got accuracy 67.6%\n",
      "Got accuracy 62.3%\n",
      "Got accuracy 67.0%\n",
      "Got accuracy 63.1%\n",
      "Got accuracy 60.9%\n",
      "Got accuracy 71.1%\n",
      "Got accuracy 66.2%\n",
      "Got accuracy 63.5%\n",
      "Got accuracy 66.2%\n",
      "Got accuracy 66.6%\n",
      "Got accuracy 60.9%\n",
      "Got accuracy 68.4%\n",
      "Got accuracy 68.6%\n",
      "Got accuracy 68.4%\n",
      "Got accuracy 60.2%\n",
      "Got accuracy 63.5%\n",
      "Got accuracy 63.3%\n",
      "Got accuracy 65.4%\n",
      "Got accuracy 70.1%\n",
      "Got accuracy 62.3%\n",
      "Got accuracy 59.8%\n",
      "Got accuracy 69.5%\n",
      "Got accuracy 100.0%\n"
     ]
    }
   ],
   "source": [
    "prng = np.random.default_rng(42)\n",
    "max_attempts = 50\n",
    "\n",
    "for _ in range(max_attempts):\n",
    "    subset = prng.choice(range(len(M2)), size=511, replace=False)\n",
    "    M2a = M2[subset]\n",
    "    if np.linalg.matrix_rank(M2a) < 511:\n",
    "        print('Subset matrix had low rank.')\n",
    "        continue\n",
    "    accuracy = (recover_s1(M2a) == real_s1).mean()\n",
    "    print(f\"Got accuracy {accuracy:.1%}\")\n",
    "    if accuracy == 1:\n",
    "        break"
   ]
  }
 ],
 "metadata": {
  "kernelspec": {
   "display_name": "Python 3",
   "language": "python",
   "name": "python3"
  },
  "language_info": {
   "codemirror_mode": {
    "name": "ipython",
    "version": 3
   },
   "file_extension": ".py",
   "mimetype": "text/x-python",
   "name": "python",
   "nbconvert_exporter": "python",
   "pygments_lexer": "ipython3",
   "version": "3.8.10"
  }
 },
 "nbformat": 4,
 "nbformat_minor": 5
}

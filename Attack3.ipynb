{
 "cells": [
  {
   "cell_type": "code",
   "execution_count": 1,
   "id": "average-burner",
   "metadata": {},
   "outputs": [
    {
     "name": "stdout",
     "output_type": "stream",
     "text": [
      "g++ -no-pie -march=native -mtune=native -O3 -std=gnu++11 -Wall -I/usr/include/eigen3 -g   -c -o demo.o demo.cpp\n",
      "g++ -no-pie -march=native -mtune=native -O3 -std=gnu++11 -Wall -I/usr/include/eigen3 -g   -c -o Entropy.o Entropy.cpp\n",
      "g++ -no-pie -march=native -mtune=native -O3 -std=gnu++11 -Wall -I/usr/include/eigen3 -g   -c -o Fft.o Fft.cpp\n",
      "g++ -no-pie -march=native -mtune=native -O3 -std=gnu++11 -Wall -I/usr/include/eigen3 -g   -c -o KeyGen.o KeyGen.cpp\n",
      "g++ -no-pie -march=native -mtune=native -O3 -std=gnu++11 -Wall -I/usr/include/eigen3 -g   -c -o Sampler.o Sampler.cpp\n",
      "g++ -no-pie -march=native -mtune=native -O3 -std=gnu++11 -Wall -I/usr/include/eigen3 -g   -c -o Setup.o Setup.cpp\n",
      "g++ -no-pie -march=native -mtune=native -O3 -std=gnu++11 -Wall -I/usr/include/eigen3 -g   -c -o Sign.o Sign.cpp\n",
      "g++ -no-pie -march=native -mtune=native -O3 -std=gnu++11 -Wall -I/usr/include/eigen3 -g   -c -o Verify.o Verify.cpp\n",
      "g++ -no-pie -o demo demo.o Entropy.o Fft.o KeyGen.o Sampler.o Setup.o Sign.o Verify.o -lgmpxx -lgmp -lntl -lmpfr -lgmp -lcrypto -lboost_program_options\n"
     ]
    }
   ],
   "source": [
    "%%bash\n",
    "cd Attack3\n",
    "make"
   ]
  },
  {
   "cell_type": "markdown",
   "id": "copyrighted-flower",
   "metadata": {},
   "source": [
    "# Attack 3"
   ]
  },
  {
   "cell_type": "markdown",
   "id": "latter-retention",
   "metadata": {},
   "source": [
    "## 1) Profiling phase"
   ]
  },
  {
   "cell_type": "code",
   "execution_count": 2,
   "id": "difficult-tribute",
   "metadata": {},
   "outputs": [],
   "source": [
    "import sys\n",
    "import os\n",
    "import numpy as np\n",
    "import pandas as pd\n",
    "from sklearn.neural_network import MLPClassifier\n",
    "import sklearn.preprocessing\n",
    "import seaborn as sns\n",
    "import matplotlib.pyplot as plt\n",
    "\n",
    "from access_data import read_gaussian_data, read_bliss_data"
   ]
  },
  {
   "cell_type": "code",
   "execution_count": 3,
   "id": "5b709ece",
   "metadata": {},
   "outputs": [],
   "source": [
    "# Path to the extracted data from Zenodo\n",
    "DATA_PATH = \"../galactics_attack_data/\""
   ]
  },
  {
   "cell_type": "code",
   "execution_count": 4,
   "id": "mobile-shanghai",
   "metadata": {},
   "outputs": [],
   "source": [
    "def series_to_numpy(s):\n",
    "    assert len(s), 's must contain at least one row'\n",
    "    l1, l2, t = len(s), len(next(iter(s))), next(iter(s)).dtype\n",
    "    res = np.empty(shape=(l1, l2))\n",
    "    for idx, row in enumerate(s):\n",
    "        res[idx] = row\n",
    "    return res"
   ]
  },
  {
   "cell_type": "markdown",
   "id": "imposed-stage",
   "metadata": {},
   "source": [
    "## 2) Attack Phase"
   ]
  },
  {
   "cell_type": "code",
   "execution_count": 5,
   "id": "electronic-observer",
   "metadata": {},
   "outputs": [],
   "source": [
    "data = read_bliss_data(bliss_dir=DATA_PATH, data_dir=\"data_device_b_attack_3/\", attack3=True)"
   ]
  },
  {
   "cell_type": "code",
   "execution_count": 6,
   "id": "moving-friend",
   "metadata": {},
   "outputs": [],
   "source": [
    "# filter b to relevant bit\n",
    "# if b==1 then \n",
    "data['b'] = data.apply(lambda row: (row['b'] % 2), axis=1)"
   ]
  },
  {
   "cell_type": "code",
   "execution_count": 7,
   "id": "rocky-racing",
   "metadata": {},
   "outputs": [],
   "source": [
    "sc_cflip_data = pd.read_pickle(DATA_PATH + \"data_device_b_attack_3/sc_cflip_cw_data.pickle\")"
   ]
  },
  {
   "cell_type": "markdown",
   "id": "saved-bennett",
   "metadata": {},
   "source": [
    "Each trace consists of 232 samples. Only the samples [TRACE_SECTION_START, TRACE_SECTION_END] are of interest for the side-channel leakage."
   ]
  },
  {
   "cell_type": "code",
   "execution_count": 8,
   "id": "interim-citizen",
   "metadata": {},
   "outputs": [],
   "source": [
    "#we will not use data['b'], instead we will use the predicted b by the classifier \n",
    "sc_cflip_data['trace'] = sc_cflip_data.apply(lambda row: row['trace'][30:80], axis=1)\n",
    "sc_cflip_data['b'] = sc_cflip_data.apply(lambda row: int(row['inputs'][1]%2), axis=1) "
   ]
  },
  {
   "cell_type": "code",
   "execution_count": 9,
   "id": "ranking-vancouver",
   "metadata": {},
   "outputs": [],
   "source": [
    "import pickle\n",
    "\n",
    "with open('models/b.pickle', 'rb') as f:\n",
    "    sc_cflip_clf = pickle.load(f)"
   ]
  },
  {
   "cell_type": "code",
   "execution_count": 10,
   "id": "legitimate-fundamental",
   "metadata": {},
   "outputs": [],
   "source": [
    "sc_cflip_data['predictions'] = sc_cflip_clf.predict(sklearn.preprocessing.StandardScaler().fit_transform(series_to_numpy(sc_cflip_data['trace'])))"
   ]
  },
  {
   "cell_type": "code",
   "execution_count": 11,
   "id": "great-priest",
   "metadata": {},
   "outputs": [],
   "source": [
    "sc_predictions = -np.array(sc_cflip_data['predictions'])"
   ]
  },
  {
   "cell_type": "code",
   "execution_count": 12,
   "id": "designed-virus",
   "metadata": {},
   "outputs": [
    {
     "name": "stdout",
     "output_type": "stream",
     "text": [
      "211\n"
     ]
    }
   ],
   "source": [
    "sc_cflip_data['predictions'] = sc_cflip_clf.predict(sklearn.preprocessing.StandardScaler().fit_transform(series_to_numpy(sc_cflip_data['trace'])))\n",
    "count = 0\n",
    "for i in range(300000):\n",
    "    if(sc_predictions[2*i]==data['b'][i] ):\n",
    "        count=count+1\n",
    "        \n",
    "print(count)"
   ]
  },
  {
   "cell_type": "code",
   "execution_count": 13,
   "id": "conceptual-fruit",
   "metadata": {},
   "outputs": [],
   "source": [
    "def tw_file(s, fname):\n",
    "    series_to_numpy(s).flatten().tofile(fname, sep=',', format='%i')"
   ]
  },
  {
   "cell_type": "code",
   "execution_count": 14,
   "id": "growing-cinema",
   "metadata": {},
   "outputs": [],
   "source": [
    "tw_file(data['z1'], 'Attack3/z1_file.txt')"
   ]
  },
  {
   "cell_type": "code",
   "execution_count": 15,
   "id": "optimum-oklahoma",
   "metadata": {},
   "outputs": [],
   "source": [
    "tw_file(data['z2'], 'Attack3/z2_file.txt')"
   ]
  },
  {
   "cell_type": "code",
   "execution_count": 16,
   "id": "progressive-kennedy",
   "metadata": {},
   "outputs": [],
   "source": [
    "tw_file(data['c'], 'Attack3/c_file.txt')"
   ]
  },
  {
   "cell_type": "code",
   "execution_count": 17,
   "id": "seven-philosophy",
   "metadata": {},
   "outputs": [],
   "source": [
    "s1 = data.iloc[0]['s1']\n",
    "s1.tofile('Attack3/s1_file.txt', sep=',', format='%i')"
   ]
  },
  {
   "cell_type": "code",
   "execution_count": 18,
   "id": "obvious-discount",
   "metadata": {},
   "outputs": [],
   "source": [
    "s2 = data.iloc[0]['s2']\n",
    "s2.tofile('Attack3/s2_file.txt', sep=',', format='%i')"
   ]
  },
  {
   "cell_type": "code",
   "execution_count": 19,
   "id": "greatest-collapse",
   "metadata": {},
   "outputs": [],
   "source": [
    "sc_predictions[::2].tofile('Attack3/b_file.txt', sep=',', format='%i')"
   ]
  },
  {
   "cell_type": "markdown",
   "id": "a16979b4",
   "metadata": {},
   "source": [
    "The secret key can be recovered running `./demo` in `Attack3/` directory.\n",
    "\n",
    "**It is recommended to run it in the terminal as the output might break the notebook.**"
   ]
  },
  {
   "cell_type": "code",
   "execution_count": 20,
   "id": "sweet-external",
   "metadata": {},
   "outputs": [],
   "source": [
    "%%bash\n",
    "#cd Attack3 && ./demo"
   ]
  },
  {
   "cell_type": "markdown",
   "id": "6ee43fc6",
   "metadata": {},
   "source": [
    "The `./demo` outputs the secret key using the side-channel data. Inserting the secret key into the cell below proves that the result is correct."
   ]
  },
  {
   "cell_type": "code",
   "execution_count": 21,
   "id": "former-conspiracy",
   "metadata": {},
   "outputs": [
    {
     "data": {
      "text/plain": [
       "1.0"
      ]
     },
     "execution_count": 21,
     "metadata": {},
     "output_type": "execute_result"
    }
   ],
   "source": [
    "(np.array(list(map(lambda s: int(s), filter(lambda s: s, map(lambda s: s.strip(), \"\"\"0  1  0  0  0  1  0  0  0  0  0  0  0  0  0  0  1 -1  1  1  0 -1 -1  1  0  0  1  0  1 -1  0  0  1 -1 -1  0  0  0 -1 \n",
    "        0  1  1  0  0  0  0  0  0  1  0  0  0  0  0  0 -1  0  0  0  0  1  0  0  1  0  1  0  0  0  1  0  0  0  0  0 -1  0 -1 \n",
    "        0  0 -1  0  0  0  0  0  0  1 -1  0  0  0 -1 -1  0  0  0  0  0 -1  0  0  0  1  1  0  0  0  0  1  0  0  1  1  0 -1 -1 \n",
    "        0  0  0  0  0  0  0 -1 -1  0  0  0  1  0  0  0 -1  1 -1  0  0  0  0  1  0  1 -1  0  0  0  0  1  0  1  0  0  0 -1  0 \n",
    "        0 -1  1  0 -1 -1  1  0 -1  0 -1  0  0  0  0  0  0  0  0 -1  1  0  0  0  0  1  1  0  0  0  1  0  0 -1  0  1  0  1  0 \n",
    "        0  1  0  0  0  0  0  0  0  1  0  1 -1  0 -1  0  0  0  0  0  0  0  1  0  0  0  0  0  0 -1  0  0  0  0  0 -1 -1  0  0 \n",
    "        0  0  0  0  1  0 -1  0  0  1  0  0  0  0  0  0  0  0  0  0  0 -1  0  0  0  1  0  1  0  0 -1  0  0  1  0  0  0  0  1 \n",
    "        0 -1  0  1  0  0  0  0  0  0  0  0  0  1  0  0 -1 -1  0  0 -1  0 -1 -1  0  0  1  0  0  0  0  0 -1 -1  0  1  0  0  0 \n",
    "        0  0  0  0  1  0  1  1 -1  0  0  0  0  0  0 -1  0 -1 -1  0 -1  0  0  0  1  0  0  0  0  0  0  0  1  0  0  0  0  0 -1 \n",
    "        0 -1  0  0  0  0  1  1  1  0  1  0  0 -1  0  0  1  0 -1  0  1  0 -1  0  1  0 -1 -1  0  0  0  1  0  0  0  0  0  1  0 \n",
    "        0  0  0  0  0  0  0  0  0  0 -1  0  1  0  0  0  0  0  1  0 -1 -1  1  0  0  0  0  0  0  0  1  0  1  0  0  1  0  0 -1 \n",
    "        1  0  0  0  0  0 -1  0  0  0  0  0  0  0  1  0  0 -1  0  0 -1  0  0  0  0  0  0  0 -1  0  0  0  0  0  0  0  1 -1 -1 \n",
    "        0  0 -1  1  0  0  0  0  1  0  0  1  0  0  1  1  0  0  0  0  0  1 -1  0  0  0  1 -1  0  0  0  0 -1  0  0  0 -1  0  0 \n",
    "        0  0 -1  0  0 \"\"\".strip(' []').split(' ')))))) == s1).mean()"
   ]
  }
 ],
 "metadata": {
  "kernelspec": {
   "display_name": "Python 3",
   "language": "python",
   "name": "python3"
  },
  "language_info": {
   "codemirror_mode": {
    "name": "ipython",
    "version": 3
   },
   "file_extension": ".py",
   "mimetype": "text/x-python",
   "name": "python",
   "nbconvert_exporter": "python",
   "pygments_lexer": "ipython3",
   "version": "3.8.10"
  }
 },
 "nbformat": 4,
 "nbformat_minor": 5
}
